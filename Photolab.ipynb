{
 "cells": [
  {
   "cell_type": "code",
   "execution_count": 1,
   "id": "6a647f5f",
   "metadata": {},
   "outputs": [],
   "source": [
    "# Load libraries\n",
    "from ipywidgets import interact, interactive, fixed\n",
    "import ipywidgets as widgets\n",
    "from PIL import Image"
   ]
  },
  {
   "cell_type": "code",
   "execution_count": 2,
   "id": "82e329f6",
   "metadata": {},
   "outputs": [
    {
     "name": "stdout",
     "output_type": "stream",
     "text": [
      "(1700, 2200)\n",
      "RGB\n"
     ]
    }
   ],
   "source": [
    "# Open sample image as original image\n",
    "orig_image = Image.open('materialism 0.png') # Set the sample image\n",
    "r_val, b_val = orig_image.size # Gather max sizes for right and bottom value\n",
    "print(orig_image.size) # Print size\n",
    "mode = orig_image.mode # Gather mode\n",
    "print(mode) # Print mode"
   ]
  },
  {
   "cell_type": "code",
   "execution_count": 4,
   "id": "08f4bb18",
   "metadata": {},
   "outputs": [
    {
     "data": {
      "application/vnd.jupyter.widget-view+json": {
       "model_id": "3393694a9cac46cbb74f3957bc4843cc",
       "version_major": 2,
       "version_minor": 0
      },
      "text/plain": [
       "interactive(children=(IntSlider(value=0, description='left', max=1700), IntSlider(value=0, description='top', …"
      ]
     },
     "metadata": {},
     "output_type": "display_data"
    }
   ],
   "source": [
    "# Gather values for crop function with interactive widget\n",
    "@interact(left=widgets.IntSlider(min=0, max=r_val, step=1, value=0, continuous_update=True),\n",
    "          top=widgets.IntSlider(min=0, max=b_val, step=1, value=0, continuous_update=True),\n",
    "          right=widgets.IntSlider(min=0, max=r_val, step=1, value=r_val, continuous_update=True),\n",
    "          bottom=widgets.IntSlider(min=0, max=b_val, step=1, value=b_val, continuous_update=True))\n",
    "\n",
    "# Pass values from slider to crop function\n",
    "def crop(left,top,right,bottom):\n",
    "    crop.left = left\n",
    "    crop.top = top\n",
    "    crop.right = right\n",
    "    crop.bottom = bottom\n",
    "    return orig_image.crop((left,top,right,bottom)) # Display crop result"
   ]
  },
  {
   "cell_type": "code",
   "execution_count": 6,
   "id": "401dbd24-3361-4ee1-bea5-a139252427df",
   "metadata": {},
   "outputs": [
    {
     "name": "stdout",
     "output_type": "stream",
     "text": [
      "180 5 1400 2150\n"
     ]
    }
   ],
   "source": [
    "left = crop.left\n",
    "top = crop.top\n",
    "right = crop.right\n",
    "bottom = crop.bottom\n",
    "\n",
    "print(left, top, right, bottom) # Print saved size values\n",
    "edited_image = orig_image.crop((left,top,right,bottom))\n",
    "width, height = edited_image.size\n",
    "edited_image.save('./tmp/crop.png') # Save cropped verison to tmp folder"
   ]
  },
  {
   "cell_type": "code",
   "execution_count": 13,
   "id": "cc604a54",
   "metadata": {},
   "outputs": [],
   "source": [
    "cropped_image = Image.open('./tmp/crop.png') # Set the sample image\n",
    "width, height = cropped_image.size\n",
    "\n",
    "# Load all pixels from the image.\n",
    "orig_pixel_map = cropped_image.load()\n",
    "mode = cropped_image.mode # Gather mode\n",
    "\n",
    "# Create a new image matching the original image's color mode, and size.\n",
    "# Load all the pixels from this new image as well.\n",
    "new_image = Image.new(mode, (width, height))\n",
    "new_pixel_map = new_image.load()"
   ]
  },
  {
   "cell_type": "code",
   "execution_count": 14,
   "id": "d35115ae",
   "metadata": {},
   "outputs": [
    {
     "data": {
      "application/vnd.jupyter.widget-view+json": {
       "model_id": "2077c6a4aefa45308122979f9f7c5347",
       "version_major": 2,
       "version_minor": 0
      },
      "text/plain": [
       "interactive(children=(IntSlider(value=50, description='threshold', max=500), IntSlider(value=1, description='d…"
      ]
     },
     "metadata": {},
     "output_type": "display_data"
    }
   ],
   "source": [
    "# Gather values for levels function with interactive widget\n",
    "@interact(threshold=widgets.IntSlider(min=0, max=500, step=1, value=50, continuous_update=True),\n",
    "          darkness=widgets.IntSlider(min=.5, max=10, step=1, value=1, continuous_update=True))\n",
    "\n",
    "# Pass values from slider to levels function\n",
    "def levels(threshold, darkness):\n",
    "    new_image = Image.new(mode, (width,height))\n",
    "    new_pixel_map = new_image.load()\n",
    "\n",
    "    for x in range(width):\n",
    "        for y in range(height):\n",
    "            r,g,b = orig_pixel_map[x,y]\n",
    "            if sum((r,g,b)) > threshold:\n",
    "                new_pixel_map[x,y] = (255,255,255)\n",
    "            else:\n",
    "                new_pixel_map[x,y] = (r*darkness,g*darkness,b*darkness)\n",
    "                            \n",
    "    levels.threshold = threshold\n",
    "    levels.darkness = darkness\n",
    "    return new_image # Display levels change"
   ]
  },
  {
   "cell_type": "code",
   "execution_count": 15,
   "id": "35377eac-330f-4546-89a5-bdd66a5a14b1",
   "metadata": {},
   "outputs": [
    {
     "name": "stdout",
     "output_type": "stream",
     "text": [
      "420 0\n"
     ]
    }
   ],
   "source": [
    "threshold = levels.threshold\n",
    "darkness = levels.darkness\n",
    "\n",
    "print(threshold,darkness)"
   ]
  },
  {
   "cell_type": "code",
   "execution_count": 16,
   "id": "5344940c-7f47-45a6-a03a-9b6332c5e939",
   "metadata": {},
   "outputs": [],
   "source": [
    "new_image.save('./tmp/levels.png') # Save adjusted verison to tmp folder"
   ]
  },
  {
   "cell_type": "code",
   "execution_count": 18,
   "id": "f558469a-ee1f-495f-8af4-67f240a7f2d8",
   "metadata": {},
   "outputs": [],
   "source": [
    "def levels(threshold, darkness):\n",
    "    new_image = Image.new(mode, (width,height))\n",
    "    new_pixel_map = new_image.load()\n",
    "\n",
    "    for x in range(width):\n",
    "        for y in range(height):\n",
    "            r,g,b = orig_pixel_map[x,y]\n",
    "            if sum((r,g,b)) > threshold:\n",
    "                new_pixel_map[x,y] = (255,255,255)\n",
    "            else:\n",
    "                new_pixel_map[x,y] = (r*darkness,g*darkness,b*darkness)\n",
    "                            \n",
    "    new_image.save('./tmp/levels.png') # Save adjusted verison to tmp folder\n",
    "    \n",
    "levels(threshold, darkness)"
   ]
  },
  {
   "cell_type": "code",
   "execution_count": null,
   "id": "e3922222-d309-4da8-b3c2-7eb7433923ee",
   "metadata": {},
   "outputs": [],
   "source": []
  }
 ],
 "metadata": {
  "kernelspec": {
   "display_name": "Python 3 (ipykernel)",
   "language": "python",
   "name": "python3"
  },
  "language_info": {
   "codemirror_mode": {
    "name": "ipython",
    "version": 3
   },
   "file_extension": ".py",
   "mimetype": "text/x-python",
   "name": "python",
   "nbconvert_exporter": "python",
   "pygments_lexer": "ipython3",
   "version": "3.9.7"
  }
 },
 "nbformat": 4,
 "nbformat_minor": 5
}
