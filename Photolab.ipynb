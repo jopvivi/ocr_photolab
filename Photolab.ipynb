{
 "cells": [
  {
   "cell_type": "code",
   "execution_count": 1,
   "metadata": {},
   "outputs": [],
   "source": [
    "# Load libraries\n",
    "from ipywidgets import interact, interactive, fixed\n",
    "import ipywidgets as widgets\n",
    "from PIL import Image"
   ]
  },
  {
   "cell_type": "code",
   "execution_count": 10,
   "metadata": {},
   "outputs": [
    {
     "name": "stdout",
     "output_type": "stream",
     "text": [
      "(1700, 2200)\n",
      "RGB\n"
     ]
    }
   ],
   "source": [
    "# Open sample image as original image\n",
    "orig_image = Image.open('materialism 0.png') # Set the sample image\n",
    "width, height = r_val, b_val = orig_image.size # Gather max sizes for right and bottom value\n",
    "print(orig_image.size) # Print size\n",
    "mode = orig_image.mode # Gather mode\n",
    "print(mode) # Print mode"
   ]
  },
  {
   "cell_type": "code",
   "execution_count": 11,
   "metadata": {},
   "outputs": [
    {
     "data": {
      "application/vnd.jupyter.widget-view+json": {
       "model_id": "8472b2af2fb9451ca5418a5d094c1eff",
       "version_major": 2,
       "version_minor": 0
      },
      "text/plain": [
       "interactive(children=(IntSlider(value=0, description='left', max=1700), IntSlider(value=0, description='top', …"
      ]
     },
     "metadata": {},
     "output_type": "display_data"
    }
   ],
   "source": [
    "# Gather values for crop function with interactive widget\n",
    "@interact(left=widgets.IntSlider(min=0, max=r_val, step=1, value=0, continuous_update=True),\n",
    "          top=widgets.IntSlider(min=0, max=b_val, step=1, value=0, continuous_update=True),\n",
    "          right=widgets.IntSlider(min=0, max=r_val, step=1, value=r_val, continuous_update=True),\n",
    "          bottom=widgets.IntSlider(min=0, max=b_val, step=1, value=b_val, continuous_update=True))\n",
    "\n",
    "# Pass values from slider to crop function\n",
    "def crop(left,top,right,bottom):    \n",
    "    return orig_image.crop((left,top,right,bottom))"
   ]
  },
  {
   "cell_type": "code",
   "execution_count": 12,
   "metadata": {},
   "outputs": [],
   "source": [
    "# Load all pixels from the image.\n",
    "orig_pixel_map = orig_image.load()\n",
    "\n",
    "# Create a new image matching the original image's color mode, and size.\n",
    "#   Load all the pixels from this new image as well.\n",
    "new_image = Image.new(mode, (width, height))\n",
    "new_pixel_map = new_image.load()"
   ]
  },
  {
   "cell_type": "code",
   "execution_count": 13,
   "metadata": {},
   "outputs": [
    {
     "data": {
      "application/vnd.jupyter.widget-view+json": {
       "model_id": "fba2fb75aed3483094c2ec5f0611ba29",
       "version_major": 2,
       "version_minor": 0
      },
      "text/plain": [
       "interactive(children=(IntSlider(value=50, description='threshold', max=500), IntSlider(value=1, description='d…"
      ]
     },
     "metadata": {},
     "output_type": "display_data"
    }
   ],
   "source": [
    "# Gather values for levels function with interactive widget\n",
    "@interact(threshold=widgets.IntSlider(min=0, max=500, step=1, value=50, continuous_update=True),\n",
    "          darkness=widgets.IntSlider(min=.5, max=10, step=1, value=1, continuous_update=True))\n",
    "\n",
    "# Pass values from slider to levels function\n",
    "def levels(threshold, darkness):\n",
    "    new_image = Image.new(mode, (width,height))\n",
    "    new_pixel_map = new_image.load()\n",
    "\n",
    "    for x in range(width):\n",
    "        for y in range(height):\n",
    "            r,g,b = orig_pixel_map[x,y]\n",
    "            if sum((r,g,b)) > threshold:\n",
    "                new_pixel_map[x,y] = (255,255,255)\n",
    "            else:\n",
    "                new_pixel_map[x,y] = (r*darkness,g*darkness,b*darkness)\n",
    "\n",
    "    return new_image"
   ]
  }
 ],
 "metadata": {
  "kernelspec": {
   "display_name": "Python 3",
   "language": "python",
   "name": "python3"
  },
  "language_info": {
   "codemirror_mode": {
    "name": "ipython",
    "version": 3
   },
   "file_extension": ".py",
   "mimetype": "text/x-python",
   "name": "python",
   "nbconvert_exporter": "python",
   "pygments_lexer": "ipython3",
   "version": "3.8.5"
  }
 },
 "nbformat": 4,
 "nbformat_minor": 5
}
