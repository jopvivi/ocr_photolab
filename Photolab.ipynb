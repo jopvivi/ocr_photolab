{
 "cells": [
  {
   "cell_type": "code",
   "execution_count": 1,
   "id": "58510a22-51d4-4170-905d-33469baf7eef",
   "metadata": {},
   "outputs": [],
   "source": [
    "# Load libraries\n",
    "from ipywidgets import interact, interactive, fixed\n",
    "import ipywidgets as widgets\n",
    "from PIL import Image"
   ]
  },
  {
   "cell_type": "code",
   "execution_count": 2,
   "id": "e9bea20e-dfd1-45df-b1e9-c69a56d15ea8",
   "metadata": {},
   "outputs": [
    {
     "name": "stdout",
     "output_type": "stream",
     "text": [
      "(1700, 2200)\n"
     ]
    }
   ],
   "source": [
    "# Open sample image as original image\n",
    "orig_image = Image.open('materialism 0.png') # Set the sample image\n",
    "r_val, b_val = orig_image.size # Gather max sizes for right and bottom value\n",
    "print(orig_image.size) # Print size"
   ]
  },
  {
   "cell_type": "code",
   "execution_count": 3,
   "id": "be78f5c0-6138-483f-8520-b8e005d78196",
   "metadata": {},
   "outputs": [],
   "source": [
    "# Crop dictionary for left, top, right, and bottom\n",
    "crop_vals = {'left':0, 'top':0, 'right':0, 'bottom':0}"
   ]
  },
  {
   "cell_type": "code",
   "execution_count": 4,
   "id": "c85088d3-1bb3-4723-9ac4-7ec171250bb1",
   "metadata": {},
   "outputs": [
    {
     "data": {
      "application/vnd.jupyter.widget-view+json": {
       "model_id": "1119212c14f84a32ab91f47543706f00",
       "version_major": 2,
       "version_minor": 0
      },
      "text/plain": [
       "interactive(children=(IntSlider(value=0, description='left', max=1700), IntSlider(value=0, description='top', …"
      ]
     },
     "metadata": {},
     "output_type": "display_data"
    }
   ],
   "source": [
    "# Gather values for crop function with interactive widget\n",
    "@interact(left=widgets.IntSlider(min=0, max=r_val, step=1, value=0, continuous_update=True),\n",
    "          top=widgets.IntSlider(min=0, max=b_val, step=1, value=0, continuous_update=True),\n",
    "          right=widgets.IntSlider(min=0, max=r_val, step=1, value=r_val, continuous_update=True),\n",
    "          bottom=widgets.IntSlider(min=0, max=b_val, step=1, value=b_val, continuous_update=True))\n",
    "\n",
    "# Pass values from slider to crop function\n",
    "def crop(left,top,right,bottom):\n",
    "    crop_vals['left'] = left\n",
    "    crop_vals['top'] = top\n",
    "    crop_vals['right'] = right\n",
    "    crop_vals['bottom'] = bottom\n",
    "    return orig_image.crop((left,top,right,bottom)) # Display crop result"
   ]
  },
  {
   "cell_type": "code",
   "execution_count": 5,
   "id": "6027509f-a672-4ac1-a9d3-9966b5175ca5",
   "metadata": {},
   "outputs": [
    {
     "name": "stdout",
     "output_type": "stream",
     "text": [
      "180 10 1520 2120\n"
     ]
    }
   ],
   "source": [
    "# Create values from dictionary\n",
    "left = crop_vals['left']\n",
    "top = crop_vals['top']\n",
    "right = crop_vals['right']\n",
    "bottom = crop_vals['bottom']\n",
    "\n",
    "print(left, top, right, bottom) # Print saved size values\n",
    "edited_image = orig_image.crop((left,top,right,bottom))\n",
    "width, height = edited_image.size\n",
    "edited_image.save('./tmp/crop.png') # Save cropped verison to tmp folder"
   ]
  },
  {
   "cell_type": "code",
   "execution_count": 6,
   "id": "60363a29-4370-4b5a-87f9-4fb82fdbe60a",
   "metadata": {},
   "outputs": [],
   "source": [
    "# Open resulted cropped image\n",
    "cropped_image = Image.open('./tmp/crop.png')\n",
    "# Gather cropped image's size\n",
    "width, height = cropped_image.size\n",
    "# Load all pixels from the image\n",
    "orig_pixel_map = cropped_image.load()\n",
    "# Gather mode\n",
    "mode = cropped_image.mode\n",
    "# Create a new image matching the original image's color mode, and size\n",
    "new_image = Image.new(mode, (width, height))\n",
    "# Load all the pixels from this new image as well\n",
    "new_pixel_map = new_image.load()"
   ]
  },
  {
   "cell_type": "code",
   "execution_count": 7,
   "id": "23ec8a9b-5c61-41dc-9f9a-2f1b832635c5",
   "metadata": {},
   "outputs": [],
   "source": [
    "# Set levels values for threshold and darkness\n",
    "levels_vals = {'threshold':0, 'darkness':0}"
   ]
  },
  {
   "cell_type": "code",
   "execution_count": 8,
   "id": "676c710a-b4a9-4ecf-9bae-0c5a21ec2287",
   "metadata": {},
   "outputs": [
    {
     "data": {
      "application/vnd.jupyter.widget-view+json": {
       "model_id": "bec69dbae6844e24b44ec39bb12fd1a1",
       "version_major": 2,
       "version_minor": 0
      },
      "text/plain": [
       "interactive(children=(IntSlider(value=50, description='threshold', max=500), IntSlider(value=1, description='d…"
      ]
     },
     "metadata": {},
     "output_type": "display_data"
    }
   ],
   "source": [
    "# Gather values for levels function with interactive widget\n",
    "@interact(threshold=widgets.IntSlider(min=0, max=500, step=1, value=50, continuous_update=True),\n",
    "          darkness=widgets.IntSlider(min=.5, max=10, step=1, value=1, continuous_update=True))\n",
    "\n",
    "# Pass values from slider to levels function\n",
    "def levels(threshold, darkness):\n",
    "    new_image = Image.new(mode, (width,height))\n",
    "    new_pixel_map = new_image.load()\n",
    "\n",
    "    for x in range(width):\n",
    "        for y in range(height):\n",
    "            r,g,b = orig_pixel_map[x,y]\n",
    "            if sum((r,g,b)) > threshold:\n",
    "                new_pixel_map[x,y] = (255,255,255)\n",
    "            else:\n",
    "                new_pixel_map[x,y] = (r*darkness,g*darkness,b*darkness)\n",
    "   \n",
    "    levels_vals['threshold'] = threshold\n",
    "    levels_vals['darkness'] = darkness\n",
    "    return new_image # Display levels change"
   ]
  },
  {
   "cell_type": "code",
   "execution_count": 9,
   "id": "b0769b6a-86a4-4d82-9ee2-4c771a8a6480",
   "metadata": {},
   "outputs": [
    {
     "name": "stdout",
     "output_type": "stream",
     "text": [
      "420 0\n"
     ]
    }
   ],
   "source": [
    "# Create values from dictionary\n",
    "threshold = levels_vals['threshold']\n",
    "darkness = levels_vals['darkness']\n",
    "\n",
    "print(threshold,darkness) # Print saved levels values\n",
    "\n",
    "# Pass values to \"levels\" function\n",
    "def levels(threshold, darkness):\n",
    "    new_image = Image.new(mode, (width,height))\n",
    "    new_pixel_map = new_image.load()\n",
    "\n",
    "    for x in range(width):\n",
    "        for y in range(height):\n",
    "            r,g,b = orig_pixel_map[x,y]\n",
    "            if sum((r,g,b)) > threshold:\n",
    "                new_pixel_map[x,y] = (255,255,255)\n",
    "            else:\n",
    "                new_pixel_map[x,y] = (r*darkness,g*darkness,b*darkness)\n",
    "    # must run inside function\n",
    "    new_image.save('./tmp/levels.png') # Save adjusted verison to tmp folder\n",
    "\n",
    "# Execute levels function\n",
    "levels(threshold, darkness)"
   ]
  },
  {
   "cell_type": "code",
   "execution_count": 10,
   "id": "8bb59325-7c02-4e09-82b5-14572cbd2181",
   "metadata": {},
   "outputs": [],
   "source": [
    "# Import libraries for batch work\n",
    "import glob\n",
    "import os"
   ]
  },
  {
   "cell_type": "code",
   "execution_count": 11,
   "id": "79b7f6a8-5b10-4ef9-8576-f42f746c4ae1",
   "metadata": {},
   "outputs": [
    {
     "name": "stdout",
     "output_type": "stream",
     "text": [
      "['materialism 0.png', 'materialism 1.png', 'materialism 2.png', 'materialism 3.png']\n"
     ]
    }
   ],
   "source": [
    "# get cwd and set file pattern\n",
    "cwd = os.getcwd()\n",
    "file_pattern = '*.png'\n",
    "file_name_list = []\n",
    "\n",
    "# change directory to source of collection\n",
    "os.chdir('collection')\n",
    "# extend file name list to match collection\n",
    "if '*' in file_pattern:\n",
    "    file_name_list.extend(glob.glob(file_pattern))\n",
    "# print collection contents    \n",
    "print(file_name_list)"
   ]
  },
  {
   "cell_type": "code",
   "execution_count": 12,
   "id": "ec714b60-f615-4986-b025-4b00796dcf73",
   "metadata": {},
   "outputs": [
    {
     "name": "stdout",
     "output_type": "stream",
     "text": [
      "Done\n"
     ]
    }
   ],
   "source": [
    "# crop all files in the collection\n",
    "for target in file_name_list:\n",
    "    orig_image = Image.open(target)\n",
    "    edited_image = orig_image.crop((left,top,right,bottom))\n",
    "    edited_image.save(target)\n",
    "print(\"Done\")"
   ]
  },
  {
   "cell_type": "code",
   "execution_count": 13,
   "id": "5b54ab90-1925-476b-ab3c-c88fd602a5a8",
   "metadata": {},
   "outputs": [
    {
     "name": "stdout",
     "output_type": "stream",
     "text": [
      "Done\n"
     ]
    }
   ],
   "source": [
    "# apply levels adjustment to all files in the collection\n",
    "def batch_levels(threshold, darkness):\n",
    "    cropped_image = Image.open(target)\n",
    "    width, height = cropped_image.size\n",
    "    orig_pixel_map = cropped_image.load()\n",
    "    mode = cropped_image.mode\n",
    "    new_image = Image.new(mode, (width, height))\n",
    "    new_pixel_map = new_image.load()\n",
    "    new_image = Image.new(mode, (width,height))\n",
    "    new_pixel_map = new_image.load()\n",
    "\n",
    "    for x in range(width):\n",
    "        for y in range(height):\n",
    "            r,g,b = orig_pixel_map[x,y]\n",
    "            if sum((r,g,b)) > threshold:\n",
    "                new_pixel_map[x,y] = (255,255,255)\n",
    "            else:\n",
    "                new_pixel_map[x,y] = (r*darkness,g*darkness,b*darkness)\n",
    "    new_image.save(target) # Save adjusted verison to tmp folder\n",
    "    \n",
    "# adjust levels for all files in collection\n",
    "for target in file_name_list:\n",
    "    batch_levels(threshold, darkness)\n",
    "    \n",
    "print(\"Done\")"
   ]
  },
  {
   "cell_type": "code",
   "execution_count": null,
   "id": "2e5c64b3-e3f1-4145-b9e3-a6f43d878951",
   "metadata": {},
   "outputs": [],
   "source": []
  }
 ],
 "metadata": {
  "kernelspec": {
   "display_name": "Python 3 (ipykernel)",
   "language": "python",
   "name": "python3"
  },
  "language_info": {
   "codemirror_mode": {
    "name": "ipython",
    "version": 3
   },
   "file_extension": ".py",
   "mimetype": "text/x-python",
   "name": "python",
   "nbconvert_exporter": "python",
   "pygments_lexer": "ipython3",
   "version": "3.9.7"
  }
 },
 "nbformat": 4,
 "nbformat_minor": 5
}
